{
 "cells": [
  {
   "cell_type": "code",
   "execution_count": 22,
   "metadata": {
    "collapsed": false
   },
   "outputs": [],
   "source": [
    "import os\n",
    "import glob\n",
    "import numpy as np\n",
    "import pandas as pd\n",
    "from sklearn.decomposition import PCA as sklearnPCA\n",
    "\n",
    "from matplotlib import pyplot as plt\n",
    "import cv2\n",
    "import mxnet as mx\n",
    "from sklearn import cross_validation\n",
    "import datetime as dt\n",
    "import cloudpickle as pickle\n",
    "\n",
    "os.chdir('f:/dsb/pca_experiment')\n",
    "\n",
    "def prepare_features(verbose=True):\n",
    "    df = pd.read_csv('data/stage1_labels.csv')\n",
    "    \n",
    "    x = np.zeros((df.shape[0], 2048))\n",
    "    for i, id in enumerate(df['id'].tolist()):\n",
    "        feat = np.load('stage1/%s.npy' % str(id))\n",
    "        feat_pca = sklearnPCA(n_components=1).fit_transform(feat.transpose())\n",
    "        x[i,:] = feat_pca.squeeze()\n",
    "    print(x.shape)\n",
    "    y = df['cancer'].as_matrix()\n",
    "    \n",
    "    trn_x, val_x, trn_y, val_y = cross_validation.train_test_split(x, y, random_state=42, stratify=y, test_size=0.20)\n",
    "    \n",
    "    return trn_x, val_x, trn_y, val_y"
   ]
  },
  {
   "cell_type": "code",
   "execution_count": 23,
   "metadata": {
    "collapsed": false
   },
   "outputs": [
    {
     "name": "stdout",
     "output_type": "stream",
     "text": [
      "(1397, 2048)\n"
     ]
    },
    {
     "data": {
      "text/plain": [
       "(array([[ -0.87620936,   9.3498632 ,   1.48600274, ...,  -5.21995721,\n",
       "           4.12983424,  10.51527554],\n",
       "        [  0.3170118 ,  19.41647627,   1.72412335, ...,  -3.92928016,\n",
       "           3.57807471,  13.6641832 ],\n",
       "        [ -4.48050675,   8.98467466,   2.43745426, ...,  -3.57870537,\n",
       "           2.91961845,  -2.43756418],\n",
       "        ..., \n",
       "        [ -0.27638591,  17.89111876,   4.13451286, ...,  -5.16458988,\n",
       "           3.58556352,  15.27602931],\n",
       "        [  2.56148805,  18.49314478,   3.27884139, ...,  -5.22123253,\n",
       "           5.87259949,  16.46648711],\n",
       "        [ -0.05165199,  16.07830059,   4.15581427, ...,  -4.80512047,\n",
       "           5.13319405,  12.33942783]]),\n",
       " array([[  4.04763745e-03,   1.20688732e+01,   3.15125801e+00, ...,\n",
       "          -1.87116733e+00,   4.28673301e+00,   6.44280972e+00],\n",
       "        [ -1.28335490e-01,   1.47411605e+01,   1.83545404e+00, ...,\n",
       "          -3.24553866e+00,   3.33890174e+00,   1.21279548e+01],\n",
       "        [  4.58320344e-01,   8.99560461e+00,  -3.68838269e-01, ...,\n",
       "          -4.62077217e+00,   7.22591619e-01,   9.70304367e+00],\n",
       "        ..., \n",
       "        [ -2.03836068e+00,   2.40499313e+01,   1.76614258e+00, ...,\n",
       "          -3.92261051e+00,   4.60526547e+00,   1.63219527e+01],\n",
       "        [  1.39992830e+00,   1.84433084e+01,   1.08621175e+00, ...,\n",
       "          -2.61071580e+00,   3.83723023e+00,   1.55281089e+01],\n",
       "        [ -2.68532346e-02,   1.88349185e+01,   5.03049718e-01, ...,\n",
       "           5.76482218e-01,   3.22911741e+00,   9.51338115e+00]]),\n",
       " array([0, 0, 0, ..., 0, 0, 0], dtype=int64),\n",
       " array([0, 1, 0, 0, 0, 0, 0, 0, 1, 0, 0, 1, 0, 1, 0, 1, 1, 0, 0, 1, 0, 0, 0,\n",
       "        0, 1, 0, 1, 0, 1, 0, 0, 0, 0, 0, 1, 0, 0, 0, 1, 1, 0, 0, 0, 0, 0, 0,\n",
       "        0, 0, 0, 1, 0, 0, 0, 0, 0, 0, 0, 0, 1, 0, 0, 0, 1, 0, 1, 0, 0, 0, 0,\n",
       "        0, 1, 0, 1, 1, 0, 0, 1, 0, 0, 1, 0, 1, 0, 0, 0, 1, 0, 0, 1, 0, 0, 1,\n",
       "        0, 0, 0, 1, 0, 0, 0, 0, 1, 0, 0, 0, 1, 0, 0, 0, 0, 1, 0, 0, 0, 0, 0,\n",
       "        0, 1, 0, 0, 0, 1, 0, 0, 0, 0, 0, 0, 0, 0, 1, 0, 1, 0, 0, 0, 0, 0, 0,\n",
       "        1, 0, 0, 1, 0, 0, 0, 0, 0, 0, 0, 0, 0, 1, 0, 1, 0, 0, 0, 0, 0, 1, 0,\n",
       "        1, 0, 0, 1, 0, 0, 0, 0, 0, 1, 0, 1, 0, 0, 0, 0, 1, 0, 0, 0, 0, 0, 0,\n",
       "        0, 0, 1, 0, 0, 0, 0, 1, 1, 0, 0, 1, 0, 0, 0, 0, 0, 0, 0, 1, 0, 1, 0,\n",
       "        1, 0, 0, 0, 0, 1, 1, 0, 1, 0, 0, 0, 0, 1, 0, 1, 1, 0, 0, 0, 1, 1, 1,\n",
       "        0, 1, 0, 0, 0, 0, 0, 0, 0, 0, 0, 1, 0, 1, 0, 0, 0, 0, 0, 0, 0, 0, 1,\n",
       "        0, 0, 0, 0, 1, 0, 0, 1, 0, 0, 0, 0, 1, 0, 1, 1, 0, 0, 0, 0, 1, 1, 0,\n",
       "        0, 1, 0, 1], dtype=int64))"
      ]
     },
     "execution_count": 23,
     "metadata": {},
     "output_type": "execute_result"
    }
   ],
   "source": [
    "prepare_features()"
   ]
  },
  {
   "cell_type": "code",
   "execution_count": null,
   "metadata": {
    "collapsed": true
   },
   "outputs": [],
   "source": []
  }
 ],
 "metadata": {
  "kernelspec": {
   "display_name": "Python [conda env:py35]",
   "language": "python",
   "name": "conda-env-py35-py"
  },
  "language_info": {
   "codemirror_mode": {
    "name": "ipython",
    "version": 3
   },
   "file_extension": ".py",
   "mimetype": "text/x-python",
   "name": "python",
   "nbconvert_exporter": "python",
   "pygments_lexer": "ipython3",
   "version": "3.5.2"
  }
 },
 "nbformat": 4,
 "nbformat_minor": 1
}

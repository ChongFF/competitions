{
 "cells": [
  {
   "cell_type": "code",
   "execution_count": 1,
   "metadata": {},
   "outputs": [
    {
     "name": "stderr",
     "output_type": "stream",
     "text": [
      "\n",
      "Attaching package: ‘dplyr’\n",
      "\n",
      "The following objects are masked from ‘package:stats’:\n",
      "\n",
      "    filter, lag\n",
      "\n",
      "The following objects are masked from ‘package:base’:\n",
      "\n",
      "    intersect, setdiff, setequal, union\n",
      "\n",
      "Loading required package: Hmisc\n",
      "Loading required package: lattice\n",
      "Loading required package: survival\n",
      "Loading required package: Formula\n",
      "Loading required package: ggplot2\n",
      "\n",
      "Attaching package: ‘Hmisc’\n",
      "\n",
      "The following objects are masked from ‘package:dplyr’:\n",
      "\n",
      "    combine, src, summarize\n",
      "\n",
      "The following objects are masked from ‘package:base’:\n",
      "\n",
      "    format.pval, round.POSIXt, trunc.POSIXt, units\n",
      "\n",
      "Loading required package: SparseM\n",
      "\n",
      "Attaching package: ‘SparseM’\n",
      "\n",
      "The following object is masked from ‘package:base’:\n",
      "\n",
      "    backsolve\n",
      "\n"
     ]
    }
   ],
   "source": [
    "# Data processing script\n",
    "# \n",
    "# assign working directory path\n",
    "wd.path <- \"~/in\"\n",
    "setwd(wd.path)\n",
    "set.seed(1234)\n",
    "library(dplyr)\n",
    "# library(foreach)\n",
    "# library(caret)\n",
    "# library(reshape2)\n",
    "library(rms)\n",
    "library(WeightedROC)\n",
    "\n",
    "#Sample mode function from Source: https://stackoverflow.com/questions/2547402/is-there-a-built-in-function-for-finding-the-mode\n",
    "Mode <- function(x, na.rm = FALSE) {\n",
    "  if (na.rm) {\n",
    "    x = x[!is.na(x)]\n",
    "  }\n",
    "  \n",
    "  ux <- unique(x)\n",
    "  return(ux[which.max(tabulate(match(x, ux)))])\n",
    "}\n",
    "\n",
    "imputationFunction <- function(imputeToData, imputeFromData, FUN, missingCols, suffix){\n",
    "  # imputeToData -  Imputation to be done on this data\n",
    "  # imputeFromData - Imputations calculation from this data\n",
    "  # FUN - imputation function\n",
    "  # missingCols - missing value column names\n",
    "  # suffix - suffix to add after column name\n",
    "  \n",
    "  imputeToData <- imputeToData[, names(imputeToData) %in% missingCols]\n",
    "  imputeFromData <- imputeFromData[, names(imputeFromData) %in% missingCols]\n",
    "  imputeVec <- apply(imputeFromData, 2, function(x) FUN(x, na.rm = T))\n",
    "  \n",
    "  for (i in 1:length(missingCols)) {\n",
    "    imputeToxData[is.na(imputeToData[, names(imputeToData) %in% missingCols[i]])\n",
    "                 , names(imputeToData) %in% missingCols[i]] <- imputeVec[names(imputeVec) %in% missingCols[i]]\n",
    "  }\n",
    "  \n",
    "  names(imputeToData) <- paste0(names(imputeToData), suffix)\n",
    "  return(imputeToData)\n",
    "}"
   ]
  },
  {
   "cell_type": "code",
   "execution_count": null,
   "metadata": {},
   "outputs": [],
   "source": [
    "test <- read.csv('application_test.csv') # applications test data\n",
    "train <- read.csv('application_train.csv') # applications train data\n",
    "\n",
    "# storing column names for later\n",
    "saveNames <- names(train)\n",
    "\n",
    "# columns with missing values\n",
    "missingCols <-  names(train)[apply(train, 2, function(x) sum(is.na(x))) > 0]\n",
    "                                   \n",
    "#train imputation\n",
    "medianDatatr <- imputationFunction(imputeToData = train, imputeFromData = train, FUN = median\n",
    "                                   , missingCols = missingCols, suffix = '.trmedian')\n",
    "\n",
    "#test imputation\n",
    "medianDatatst.tst <- imputationFunction(imputeToData = test, imputeFromData = test, FUN = median\n",
    "                                    , missingCols = missingCols, suffix = '.tstmedian')"
   ]
  },
  {
   "cell_type": "markdown",
   "metadata": {},
   "source": [
    "## Initial Transformation to get to the Imputed Dataset"
   ]
  },
  {
   "cell_type": "code",
   "execution_count": null,
   "metadata": {},
   "outputs": [],
   "source": [
    "weights <- read.csv('Weights_and_fold.csv')\n",
    "print(\"Weights loaded\")\n",
    "train <- cbind(train, medianDatatr) %>% left_join(weights, by = \"SK_ID_CURR\")\n",
    "write.csv(train,'application_train_imp.csv')\n",
    "test <- cbind(test, medianDatatst.tst)\n",
    "write.csv(test,'application_test_imp.csv')\n",
    "rm(medianDatatr, medianDatatst.tst, weights)"
   ]
  },
  {
   "cell_type": "code",
   "execution_count": null,
   "metadata": {},
   "outputs": [],
   "source": [
    "weights <- read.csv('V2_weight_R_code(Alex)/Train_Weights_V2.csv')\n",
    "train <- read.csv('application_train_imp.csv') # applications train data\n",
    "train <- train %>% select(-Weights, -X) %>% left_join(weights, by = \"SK_ID_CURR\") %>% select(-X)\n",
    "write.csv(train,'application_train_imp.csv')"
   ]
  },
  {
   "cell_type": "markdown",
   "metadata": {},
   "source": [
    "## Start Here for Subsequent Runs, read in the processed dataset"
   ]
  },
  {
   "cell_type": "code",
   "execution_count": 2,
   "metadata": {},
   "outputs": [],
   "source": [
    "test <- read.csv('application_test_imp.csv') # applications test data\n",
    "train <- read.csv('application_train_imp.csv') # applications train data"
   ]
  },
  {
   "cell_type": "code",
   "execution_count": null,
   "metadata": {},
   "outputs": [],
   "source": [
    "# Mechanically create a formula for rms modeling\n",
    "M = train\n",
    "\n",
    "col_set = M %>% names()\n",
    "col_set = col_set[!col_set %in% \"TARGET\"]\n",
    "\n",
    "string_formula = \"TARGET~\"\n",
    "for(i in col_set){\n",
    "  if(class(M[[i]]) == \"numeric\"){\n",
    "    tmp_component = paste0(\"+rcs(\",i,\",3)\")\n",
    "  }\n",
    "  if(class(M[[i]]) != \"numeric\"){\n",
    "    tmp_component = paste0(\"+\",i)\n",
    "  }\n",
    "  string_formula = paste0(string_formula, tmp_component)  \n",
    "}\n",
    "requested_formula = as.formula(string_formula)\n",
    "requested_formula"
   ]
  },
  {
   "cell_type": "markdown",
   "metadata": {},
   "source": [
    "### Base Model + AMT_CREDIT (Model FF_rms_2)"
   ]
  },
  {
   "cell_type": "code",
   "execution_count": 7,
   "metadata": {},
   "outputs": [
    {
     "name": "stderr",
     "output_type": "stream",
     "text": [
      "Warning message in lrm(data = trainData, formula = requested_formula, weight = Weights, :\n",
      "“currently weights are ignored in model validation and bootstrapping lrm fits”"
     ]
    },
    {
     "name": "stdout",
     "output_type": "stream",
     "text": [
      "          index.orig training    test optimism index.corrected  n\n",
      "Dxy           0.4424   0.4598  0.4584   0.0014          0.4410 10\n",
      "R2            0.1095   0.1197  0.1189   0.0009          0.1087 10\n",
      "Intercept     0.0000   0.0000 -0.0107   0.0107         -0.0107 10\n",
      "Slope         1.0000   1.0000  0.9953   0.0047          0.9953 10\n",
      "Emax          0.0000   0.0000  0.0031   0.0031          0.0031 10\n",
      "D             0.0031   0.0528  0.0524   0.0004          0.0027 10\n",
      "U             0.0000   0.0000  0.0000   0.0000          0.0000 10\n",
      "Q             0.0031   0.0528  0.0524   0.0004          0.0027 10\n",
      "B             0.0699   0.0697  0.0697   0.0000          0.0699 10\n",
      "g             1.0125   0.9770  0.9730   0.0040          1.0085 10\n",
      "gp            0.0659   0.0674  0.0671   0.0003          0.0656 10\n",
      "[1] 0.7387135\n",
      "[1] 0.7208082\n"
     ]
    },
    {
     "name": "stderr",
     "output_type": "stream",
     "text": [
      "Warning message in lrm(data = trainData, formula = requested_formula, weight = Weights, :\n",
      "“currently weights are ignored in model validation and bootstrapping lrm fits”"
     ]
    },
    {
     "name": "stdout",
     "output_type": "stream",
     "text": [
      "          index.orig training   test optimism index.corrected  n\n",
      "Dxy           0.4426   0.4594 0.4588   0.0006          0.4420 10\n",
      "R2            0.1132   0.1198 0.1196   0.0002          0.1130 10\n",
      "Intercept     0.0000   0.0000 0.0049  -0.0049          0.0049 10\n",
      "Slope         1.0000   1.0000 1.0001  -0.0001          1.0001 10\n",
      "Emax          0.0000   0.0000 0.0012   0.0012          0.0012 10\n",
      "D             0.0031   0.0528 0.0528   0.0000          0.0031 10\n",
      "U             0.0000   0.0000 0.0000   0.0000          0.0000 10\n",
      "Q             0.0031   0.0528 0.0528   0.0000          0.0031 10\n",
      "B             0.0700   0.0695 0.0697  -0.0002          0.0702 10\n",
      "g             1.0670   0.9694 0.9686   0.0007          1.0663 10\n",
      "gp            0.0660   0.0672 0.0673  -0.0001          0.0662 10\n",
      "[1] 0.7102572\n",
      "[1] 0.7195507\n"
     ]
    },
    {
     "name": "stderr",
     "output_type": "stream",
     "text": [
      "Warning message in lrm(data = trainData, formula = requested_formula, weight = Weights, :\n",
      "“currently weights are ignored in model validation and bootstrapping lrm fits”"
     ]
    },
    {
     "name": "stdout",
     "output_type": "stream",
     "text": [
      "          index.orig training    test optimism index.corrected  n\n",
      "Dxy           0.4377   0.4587  0.4569   0.0018          0.4359 10\n",
      "R2            0.1112   0.1197  0.1189   0.0008          0.1105 10\n",
      "Intercept     0.0000   0.0000 -0.0066   0.0066         -0.0066 10\n",
      "Slope         1.0000   1.0000  0.9959   0.0041          0.9959 10\n",
      "Emax          0.0000   0.0000  0.0021   0.0021          0.0021 10\n",
      "D             0.0031   0.0528  0.0525   0.0003          0.0028 10\n",
      "U             0.0000   0.0000  0.0000   0.0000          0.0000 10\n",
      "Q             0.0031   0.0528  0.0525   0.0003          0.0028 10\n",
      "B             0.0701   0.0696  0.0698  -0.0002          0.0703 10\n",
      "g             1.0646   0.9721  0.9682   0.0039          1.0607 10\n",
      "gp            0.0669   0.0672  0.0671   0.0001          0.0668 10\n",
      "[1] 0.7206843\n",
      "[1] 0.7207265\n"
     ]
    },
    {
     "name": "stderr",
     "output_type": "stream",
     "text": [
      "Warning message in lrm(data = trainData, formula = requested_formula, weight = Weights, :\n",
      "“currently weights are ignored in model validation and bootstrapping lrm fits”"
     ]
    },
    {
     "name": "stdout",
     "output_type": "stream",
     "text": [
      "          index.orig training    test optimism index.corrected  n\n",
      "Dxy           0.4499   0.4623  0.4592   0.0030          0.4468 10\n",
      "R2            0.1125   0.1212  0.1197   0.0015          0.1111 10\n",
      "Intercept     0.0000   0.0000 -0.0103   0.0103         -0.0103 10\n",
      "Slope         1.0000   1.0000  0.9940   0.0060          0.9940 10\n",
      "Emax          0.0000   0.0000  0.0032   0.0032          0.0032 10\n",
      "D             0.0031   0.0533  0.0527   0.0006          0.0024 10\n",
      "U             0.0000   0.0000  0.0000   0.0000          0.0000 10\n",
      "Q             0.0031   0.0533  0.0527   0.0006          0.0024 10\n",
      "B             0.0696   0.0692  0.0694  -0.0001          0.0698 10\n",
      "g             1.0474   0.9853  0.9782   0.0070          1.0404 10\n",
      "gp            0.0648   0.0674  0.0671   0.0003          0.0644 10\n",
      "[1] 0.703966\n",
      "[1] 0.7206597\n"
     ]
    },
    {
     "name": "stderr",
     "output_type": "stream",
     "text": [
      "Warning message in lrm(data = trainData, formula = requested_formula, weight = Weights, :\n",
      "“currently weights are ignored in model validation and bootstrapping lrm fits”"
     ]
    },
    {
     "name": "stdout",
     "output_type": "stream",
     "text": [
      "singular information matrix in lrm.fit (rank= 15 ).  Offending variable(s):\n",
      "CODE_GENDER=XNA \n",
      "singular information matrix in lrm.fit (rank= 15 ).  Offending variable(s):\n",
      "CODE_GENDER=XNA \n",
      "singular information matrix in lrm.fit (rank= 15 ).  Offending variable(s):\n",
      "CODE_GENDER=XNA \n",
      "singular information matrix in lrm.fit (rank= 15 ).  Offending variable(s):\n",
      "CODE_GENDER=XNA \n",
      "singular information matrix in lrm.fit (rank= 15 ).  Offending variable(s):\n",
      "CODE_GENDER=XNA \n",
      "\n",
      "Divergence or singularity in 5 samples\n",
      "          index.orig training    test optimism index.corrected n\n",
      "Dxy           0.4417   0.4579  0.4562   0.0017          0.4401 5\n",
      "R2            0.1135   0.1192  0.1181   0.0011          0.1124 5\n",
      "Intercept     0.0000   0.0000 -0.0051   0.0051         -0.0051 5\n",
      "Slope         1.0000   1.0000  0.9957   0.0043          0.9957 5\n",
      "Emax          0.0000   0.0000  0.0019   0.0019          0.0019 5\n",
      "D             0.0032   0.0524  0.0520   0.0004          0.0028 5\n",
      "U             0.0000   0.0000  0.0000   0.0000          0.0000 5\n",
      "Q             0.0032   0.0524  0.0520   0.0004          0.0028 5\n",
      "B             0.0698   0.0693  0.0695  -0.0002          0.0700 5\n",
      "g             1.0548   0.9617  0.9566   0.0052          1.0497 5\n",
      "gp            0.0685   0.0667  0.0666   0.0002          0.0683 5\n",
      "[1] 0.7193747\n",
      "[1] 0.7253289\n"
     ]
    }
   ],
   "source": [
    "#Perform 5 fold cross validation\n",
    "model = list()\n",
    "mod_anova = list()\n",
    "test_roc = list()\n",
    "\n",
    "for(i in 1:5){\n",
    "    testData <- train[train$fold==i,]\n",
    "    trainData <- train[train$fold!=i,]\n",
    "    string_formula <- TARGET ~ NAME_CONTRACT_TYPE + CODE_GENDER + FLAG_OWN_CAR + FLAG_OWN_REALTY + rcs(EXT_SOURCE_1.trmedian, 4) + \n",
    "            rcs(EXT_SOURCE_2.trmedian, 4) + rcs(EXT_SOURCE_3.trmedian,4) + rcs(AMT_CREDIT, 3)\n",
    "    requested_formula = as.formula(string_formula)\n",
    "    a_model = lrm(data=trainData, formula = requested_formula, weight=Weights, tol=1E-10, x=TRUE,y=TRUE)\n",
    "        \n",
    "    # diagnostic plots\n",
    "    ## Variable Importance\n",
    "    mod_anova[[i]] <- anova(a_model)\n",
    "    \n",
    "    ## Validation Statistics\n",
    "    print(validate(a_model, B=10))\n",
    "    model[[i]] <- a_model\n",
    "\n",
    "    ## Calibration Curve\n",
    "    # plot(calibrate(a_model, B=10))\n",
    "\n",
    "    # use a fitted model to score a dataset, convert score to probability\n",
    "    test_scored <- cbind(testData, predict(a_model, testData, se.fit=TRUE))\n",
    "    test_scored$pred = exp(test_scored$linear.predictors)/(1+exp(test_scored$linear.predictors))\n",
    "\n",
    "    # Weighted AUROC\n",
    "    tp.fp <- WeightedROC(test_scored$pred,test_scored$TARGET,test_scored$Weights)\n",
    "    test_roc[[i]] <- WeightedAUC(tp.fp)\n",
    "    print(test_roc[[i]])\n",
    "\n",
    "    # Unweighted AUROC\n",
    "    tp.fp <- WeightedROC(test_scored$pred,test_scored$TARGET)\n",
    "    print(WeightedAUC(tp.fp))\n",
    "    \n",
    "}"
   ]
  },
  {
   "cell_type": "code",
   "execution_count": null,
   "metadata": {
    "scrolled": false
   },
   "outputs": [],
   "source": [
    "#Perform 5 fold cross validation\n",
    "model = list()\n",
    "mod_anova = list()\n",
    "test_roc = list()\n",
    "\n",
    "for(i in 1:5){\n",
    "    testData <- train[train$fold==i,]\n",
    "    trainData <- train[train$fold!=i,]\n",
    "    string_formula <- TARGET ~ NAME_CONTRACT_TYPE + CODE_GENDER + FLAG_OWN_CAR + FLAG_OWN_REALTY + rcs(EXT_SOURCE_1.trmedian, 4) + \n",
    "            rcs(EXT_SOURCE_2.trmedian, 4) + rcs(EXT_SOURCE_3.trmedian,4)\n",
    "    requested_formula = as.formula(string_formula)\n",
    "    a_model = lrm(data=trainData, formula = requested_formula, weight=Weights, tol=1E-10, x=TRUE,y=TRUE)\n",
    "        \n",
    "    # diagnostic plots\n",
    "    ## Variable Importance\n",
    "    mod_anova[[i]] <- anova(a_model)\n",
    "    \n",
    "    ## Validation Statistics\n",
    "    print(validate(a_model, B=10))\n",
    "    model[[i]] <- a_model\n",
    "\n",
    "    ## Calibration Curve\n",
    "    # plot(calibrate(a_model, B=10))\n",
    "\n",
    "    # use a fitted model to score a dataset, convert score to probability\n",
    "    test_scored <- cbind(testData, predict(a_model, testData, se.fit=TRUE))\n",
    "    test_scored$pred = exp(test_scored$linear.predictors)/(1+exp(test_scored$linear.predictors))\n",
    "\n",
    "    # Weighted AUROC\n",
    "    tp.fp <- WeightedROC(test_scored$pred,test_scored$TARGET,test_scored$Weights)\n",
    "    test_roc[[i]] <- WeightedAUC(tp.fp)\n",
    "    print(test_roc[[i]])\n",
    "\n",
    "    # Unweighted AUROC\n",
    "    tp.fp <- WeightedROC(test_scored$pred,test_scored$TARGET)\n",
    "    print(WeightedAUC(tp.fp))\n",
    "    \n",
    "}"
   ]
  },
  {
   "cell_type": "code",
   "execution_count": null,
   "metadata": {},
   "outputs": [],
   "source": [
    "# Trying to understand why adding AMT_CREDIT, AMT_INCOME_TOTAL to the model would cause information matrix singularity\n",
    "train_samp_col <- train %>% select(AMT_CREDIT, AMT_INCOME_TOTAL)\n",
    "hist(train_samp_col)\n",
    "# the value seems pretty ordinary\n",
    "\n",
    "cor(trainData[,c(\"EXT_SOURCE_1.trmedian\", \"EXT_SOURCE_2.trmedian\", \"EXT_SOURCE_3.trmedian\", \"AMT_CREDIT\", \"AMT_INCOME_TOTAL\")])"
   ]
  },
  {
   "cell_type": "markdown",
   "metadata": {},
   "source": [
    "### Train FF_rms_2 on the full dataset and create submission"
   ]
  },
  {
   "cell_type": "code",
   "execution_count": 3,
   "metadata": {},
   "outputs": [
    {
     "name": "stderr",
     "output_type": "stream",
     "text": [
      "Warning message in lrm(data = train, formula = requested_formula, weight = Weights, :\n",
      "“currently weights are ignored in model validation and bootstrapping lrm fits”"
     ]
    },
    {
     "data": {},
     "metadata": {},
     "output_type": "display_data"
    },
    {
     "data": {
      "image/png": "[encoded data removed]",
      "text/plain": [
       "plot without title"
      ]
     },
     "metadata": {},
     "output_type": "display_data"
    },
    {
     "data": {
      "image/png": "[encoded data removed]",
      "text/plain": [
       "plot without title"
      ]
     },
     "metadata": {},
     "output_type": "display_data"
    }
   ],
   "source": [
    "string_formula <- TARGET ~ NAME_CONTRACT_TYPE + CODE_GENDER + FLAG_OWN_CAR + FLAG_OWN_REALTY + rcs(EXT_SOURCE_1.trmedian, 4) + \n",
    "            rcs(EXT_SOURCE_2.trmedian, 4) + rcs(EXT_SOURCE_3.trmedian,4) + rcs(AMT_CREDIT, 3)\n",
    "requested_formula = as.formula(string_formula)\n",
    "a_model = lrm(data=train, formula = requested_formula, weight=Weights, tol=1E-10, x=TRUE,y=TRUE)\n",
    "\n",
    "# Diagnostic Plots\n",
    "## Variable Importance\n",
    "plot(anova(a_model))\n",
    "## Partial Effect Plot\n",
    "dd <- datadist(train); options(datadist='dd')\n",
    "ggplot(Predict(a_model),sepdiscrete='vertical',vnames='names')"
   ]
  },
  {
   "cell_type": "code",
   "execution_count": 4,
   "metadata": {},
   "outputs": [
    {
     "data": {
      "text/plain": [
       "Logistic Regression Model\n",
       " \n",
       " lrm(formula = requested_formula, data = train, x = TRUE, y = TRUE, \n",
       "     tol = 1e-10, weights = Weights)\n",
       " \n",
       " \n",
       " Sum of Weights by Response Category\n",
       " \n",
       "         0         1 \n",
       " 18205.476  1552.752 \n",
       " \n",
       "                            Model Likelihood     Discrimination    Rank Discrim.    \n",
       "                               Ratio Test           Indexes           Indexes       \n",
       " Obs           307511      LR chi2     953.23    R2       0.111    C       0.644    \n",
       "  0            282686      d.f.            15    g        1.044    Dxy     0.287    \n",
       "  1             24825      Pr(> chi2) <0.0001    gr       2.840    gamma   0.290    \n",
       " Sum of weights19758.23                          gp       0.066    tau-a   0.037    \n",
       " max |deriv|        3                            Brier    0.068                     \n",
       " \n",
       "                                    Coef     S.E.     Wald Z Pr(>|Z|)\n",
       " Intercept                           -0.1449   0.2090 -0.69  0.4880  \n",
       " NAME_CONTRACT_TYPE=Revolving loans  -0.7045   0.3705 -1.90  0.0572  \n",
       " CODE_GENDER=M                        0.4363   0.0596  7.33  <0.0001 \n",
       " CODE_GENDER=XNA                     -4.2312 376.5875 -0.01  0.9910  \n",
       " FLAG_OWN_CAR=Y                      -0.3714   0.0635 -5.85  <0.0001 \n",
       " FLAG_OWN_REALTY=Y                   -0.0653   0.0587 -1.11  0.2660  \n",
       " EXT_SOURCE_1.trmedian               -1.2771   0.3092 -4.13  <0.0001 \n",
       " EXT_SOURCE_1.trmedian'              -0.6831   0.4739 -1.44  0.1494  \n",
       " EXT_SOURCE_2.trmedian               -1.9980   0.3962 -5.04  <0.0001 \n",
       " EXT_SOURCE_2.trmedian'              -0.0004   0.7744  0.00  0.9996  \n",
       " EXT_SOURCE_2.trmedian''             -3.5913   7.7675 -0.46  0.6438  \n",
       " EXT_SOURCE_3.trmedian               -3.2175   0.4547 -7.08  <0.0001 \n",
       " EXT_SOURCE_3.trmedian'               2.6402   1.0956  2.41  0.0160  \n",
       " EXT_SOURCE_3.trmedian''            -48.9794  15.1880 -3.22  0.0013  \n",
       " AMT_CREDIT                           0.0000   0.0000  8.85  <0.0001 \n",
       " AMT_CREDIT'                          0.0000   0.0000 -8.70  <0.0001 \n",
       " "
      ]
     },
     "metadata": {},
     "output_type": "display_data"
    }
   ],
   "source": [
    "a_model"
   ]
  },
  {
   "cell_type": "code",
   "execution_count": 5,
   "metadata": {},
   "outputs": [],
   "source": [
    "test$EXT_SOURCE_1.trmedian = test$EXT_SOURCE_1.tstmedian\n",
    "test$EXT_SOURCE_2.trmedian = test$EXT_SOURCE_2.tstmedian\n",
    "test$EXT_SOURCE_3.trmedian = test$EXT_SOURCE_3.tstmedian"
   ]
  },
  {
   "cell_type": "code",
   "execution_count": 6,
   "metadata": {},
   "outputs": [],
   "source": [
    "test_scored <- cbind(test, predict(a_model, test, se.fit=TRUE))\n",
    "test_scored$TARGET <- exp(test_scored$linear.predictors)/(1+exp(test_scored$linear.predictors))\n",
    "submission <- test_scored %>% select(SK_ID_CURR, TARGET)\n",
    "write.csv(submission, \"test_scored.csv\")"
   ]
  },
  {
   "cell_type": "code",
   "execution_count": null,
   "metadata": {},
   "outputs": [],
   "source": []
  }
 ],
 "metadata": {
  "kernelspec": {
   "display_name": "R",
   "language": "R",
   "name": "ir"
  },
  "language_info": {
   "codemirror_mode": "r",
   "file_extension": ".r",
   "mimetype": "text/x-r-source",
   "name": "R",
   "pygments_lexer": "r",
   "version": "3.4.3"
  }
 },
 "nbformat": 4,
 "nbformat_minor": 2
}

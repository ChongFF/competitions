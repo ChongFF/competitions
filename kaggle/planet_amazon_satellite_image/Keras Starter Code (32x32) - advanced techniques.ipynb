{
 "cells": [
  {
   "cell_type": "markdown",
   "metadata": {},
   "source": [
    "Techniques Demonstrated:\n",
    "  1) Saving and Loading pre-trained Model Weights\n",
    "  2) Saving and Loading NumPy objects (of images) - much faster!\n",
    "  3) Early Stopping of CNN Training\n",
    "  4) Saving and Loading Model Training history, and Visualizing (preserved) Model Training History\n",
    "To-learn:\n",
    "  1) Saving model probabilities in a nice way (for ensembling)"
   ]
  },
  {
   "cell_type": "code",
   "execution_count": 1,
   "metadata": {
    "collapsed": false
   },
   "outputs": [
    {
     "name": "stdout",
     "output_type": "stream",
     "text": [
      "------Imports complete-----\n"
     ]
    }
   ],
   "source": [
    "# Loading Common Packages for Our Team\n",
    "import pickle as pickle\n",
    "import numpy as np\n",
    "import os\n",
    "import pandas as pd\n",
    "import random\n",
    "from tqdm import tqdm\n",
    "# import xgboost as xgb   # Fan Fei does not have XGBoost on Windows\n",
    "import pickle as pickle\n",
    "import cv2\n",
    "import datetime as dt\n",
    "print(\"------Imports complete-----\")"
   ]
  },
  {
   "cell_type": "code",
   "execution_count": 2,
   "metadata": {
    "collapsed": false
   },
   "outputs": [
    {
     "name": "stderr",
     "output_type": "stream",
     "text": [
      "Using TensorFlow backend.\n"
     ]
    }
   ],
   "source": [
    "# Import Model Specific packages\n",
    "from keras.preprocessing.image import img_to_array, load_img\n",
    "\n",
    "import keras as k\n",
    "from keras.models import Sequential\n",
    "from keras.layers import Dense, Dropout, Flatten\n",
    "from keras.layers import Conv2D, MaxPooling2D\n",
    "\n",
    "from multiprocessing import Pool, cpu_count\n",
    "\n",
    "# callback for saving models, early stopping\n",
    "from keras.callbacks import ModelCheckpoint\n",
    "from keras.callbacks import EarlyStopping\n",
    "\n",
    "# for plotting model training history\n",
    "import matplotlib.pyplot as plt\n",
    "\n",
    "# os.chdir('C:/deep_learning') # This is where the input dataset is stored\n",
    "# os.getcwd()\n",
    "print(\"------Fan Fei's Imports Complete-----\")"
   ]
  },
  {
   "cell_type": "code",
   "execution_count": 3,
   "metadata": {
    "collapsed": false
   },
   "outputs": [
    {
     "name": "stdout",
     "output_type": "stream",
     "text": [
      "------Paths Built-----\n"
     ]
    }
   ],
   "source": [
    "random_seed = 987654321\n",
    "random.seed(random_seed)\n",
    "np.random.seed(random_seed)\n",
    "\n",
    "# train_path = \"c:/deep_learning/kaggle/amazon/train/\"\n",
    "# test_path = \"c:/deep_learning/kaggle/amazon/test/\"\n",
    "train_path = \"f:/kaggle/amazon/train-jpg/\"\n",
    "test_path = \"f:/kaggle/amazon/test-jpg/\"\n",
    "# train_path = \"/mnt/f/kaggle/amazon/train-jpg/\"\n",
    "# test_path = \"/mnt/f/kaggle/amazon/test-jpg/\"\n",
    "\n",
    "train = pd.read_csv(\"c:/deep_learning/kaggle/amazon/train_v2.csv\")\n",
    "# train = pd.read_csv(\"c:/deep_learning/kaggle/amazon/train_v2_short.csv\")\n",
    "test =  pd.read_csv(\"c:/deep_learning/kaggle/amazon/sample_submission_v2.csv\")\n",
    "# test =  pd.read_csv(\"c:/deep_learning/kaggle/amazon/sample_submission_v2_short.csv\")\n",
    "\n",
    "#Location for saving serialized objects\n",
    "obj_save_path = \"c:/deep_learning/kaggle/amazon/model/\"\n",
    "subm_output_path = \"c:/deep_learning/kaggle/amazon/submissions/\"\n",
    "print(\"------Paths Built-----\")"
   ]
  },
  {
   "cell_type": "code",
   "execution_count": 4,
   "metadata": {
    "collapsed": false
   },
   "outputs": [],
   "source": [
    "def keras_image_prep(df, data_path, name, dim, labels):\n",
    "    x_out = []\n",
    "    y_out = []\n",
    "\n",
    "    # flatten = lambda l: [item for sublist in l for item in sublist]\n",
    "    # labels = list(set(flatten([l.split(' ') for l in df['tags'].values])))\n",
    "\n",
    "    label_map = {l: i for i, l in enumerate(labels)}\n",
    "    # inv_label_map = {i: l for l, i in label_map.items()}\n",
    "\n",
    "    for image_name, tags in tqdm(df.values, miniters=1000):\n",
    "        img = img_to_array(load_img(data_path + image_name + '.jpg', target_size=[dim,dim]))\n",
    "        targets = np.zeros(17)\n",
    "        for t in tags.split(' '):\n",
    "            targets[label_map[t]] = 1 \n",
    "        x_out.append(img)\n",
    "        y_out.append(targets)\n",
    "    \n",
    "    x_out = np.array(x_out, np.float16) / 255.\n",
    "    y_out = np.array(y_out, np.uint8)\n",
    "\n",
    "    print(x_out.shape)\n",
    "    print(y_out.shape)\n",
    "    return x_out, y_out"
   ]
  },
  {
   "cell_type": "code",
   "execution_count": 5,
   "metadata": {
    "collapsed": true
   },
   "outputs": [],
   "source": [
    "input_dim = 32\n",
    "labels = train['tags'].str.get_dummies(sep=' ').columns"
   ]
  },
  {
   "cell_type": "code",
   "execution_count": 18,
   "metadata": {
    "collapsed": false
   },
   "outputs": [],
   "source": [
    "# x_train, y_train = keras_image_prep(train, train_path, 'train', input_dim, labels)\n",
    "# this is to provide a local validation F-score\n",
    "split = 35000\n",
    "# split = 80\n",
    "# x_train, x_valid, y_train, y_valid = x_train[:split], x_train[split:], y_train[:split], y_train[split:]\n",
    "\n",
    "# Save out the image NumPy to disk\n",
    "# np.save('f:/kaggle/amazon/x_train.npy', x_train)\n",
    "# np.save('f:/kaggle/amazon/y_train.npy', y_train)\n",
    "# np.save('f:/kaggle/amazon/x_valid.npy', x_valid)\n",
    "# np.save('f:/kaggle/amazon/y_valid.npy', y_valid)\n",
    "\n",
    "# can use the following block after the image has been saved as NumPy\n",
    "x_train = np.load('f:/kaggle/amazon/x_train.npy')\n",
    "y_train = np.load('f:/kaggle/amazon/y_train.npy')\n",
    "x_valid = np.load('f:/kaggle/amazon/x_valid.npy')\n",
    "y_valid = np.load('f:/kaggle/amazon/y_valid.npy')"
   ]
  },
  {
   "cell_type": "code",
   "execution_count": 19,
   "metadata": {
    "collapsed": false
   },
   "outputs": [],
   "source": [
    "model = Sequential()\n",
    "model.add(Conv2D(32, kernel_size=(3, 3),\n",
    "                 activation='relu',\n",
    "                 input_shape=(input_dim, input_dim, 3)))\n",
    "\n",
    "model.add(Conv2D(64, (3, 3), activation='relu'))\n",
    "model.add(MaxPooling2D(pool_size=(2, 2)))\n",
    "model.add(Dropout(0.25))\n",
    "model.add(Flatten())\n",
    "model.add(Dense(128, activation='relu'))\n",
    "model.add(Dropout(0.5))\n",
    "model.add(Dense(17, activation='sigmoid'))"
   ]
  },
  {
   "cell_type": "code",
   "execution_count": 20,
   "metadata": {
    "collapsed": true
   },
   "outputs": [],
   "source": [
    "# Read in pre-trained weights - fast\n",
    "model.load_weights(obj_save_path + \"weights.best.hdf5\")"
   ]
  },
  {
   "cell_type": "code",
   "execution_count": 21,
   "metadata": {
    "collapsed": true
   },
   "outputs": [],
   "source": [
    "# Compiling the model - fast\n",
    "model.compile(loss='binary_crossentropy', # We NEED binary here, since categorical_crossentropy l1 norms the output before calculating loss.\n",
    "              optimizer='adam',\n",
    "              metrics=['accuracy'])"
   ]
  },
  {
   "cell_type": "code",
   "execution_count": 22,
   "metadata": {
    "collapsed": true
   },
   "outputs": [],
   "source": [
    "# Incorporate Callback features\n",
    "# Checkpointing \n",
    "filepath= obj_save_path + \"weights.best.hdf5\"\n",
    "checkpoint = ModelCheckpoint(filepath, monitor='val_acc', verbose=1, save_best_only=True, mode='max')\n",
    "\n",
    "# Early Stopping\n",
    "earlystop = EarlyStopping(monitor='val_loss', min_delta=0.0002, patience=5, verbose=0, mode='auto') \n",
    "\n",
    "callbacks_list = [checkpoint, earlystop]"
   ]
  },
  {
   "cell_type": "code",
   "execution_count": 23,
   "metadata": {
    "collapsed": false
   },
   "outputs": [
    {
     "name": "stdout",
     "output_type": "stream",
     "text": [
      "Train on 35000 samples, validate on 5479 samples\n",
      "Epoch 1/36\n",
      "34944/35000 [============================>.] - ETA: 0s - loss: 0.1444 - acc: 0.9422Epoch 00000: val_acc improved from -inf to 0.94433, saving model to c:/deep_learning/kaggle/amazon/model/weights.best.hdf5\n",
      "35000/35000 [==============================] - 310s - loss: 0.1444 - acc: 0.9421 - val_loss: 0.1408 - val_acc: 0.9443\n",
      "Epoch 2/36\n",
      "34944/35000 [============================>.] - ETA: 0s - loss: 0.1426 - acc: 0.9425Epoch 00001: val_acc improved from 0.94433 to 0.94633, saving model to c:/deep_learning/kaggle/amazon/model/weights.best.hdf5\n",
      "35000/35000 [==============================] - 297s - loss: 0.1426 - acc: 0.9425 - val_loss: 0.1381 - val_acc: 0.9463\n",
      "Epoch 3/36\n",
      "34944/35000 [============================>.] - ETA: 0s - loss: 0.1410 - acc: 0.9434Epoch 00002: val_acc did not improve\n",
      "35000/35000 [==============================] - 297s - loss: 0.1410 - acc: 0.9434 - val_loss: 0.1349 - val_acc: 0.9456\n",
      "Epoch 4/36\n",
      "34944/35000 [============================>.] - ETA: 0s - loss: 0.1400 - acc: 0.9434Epoch 00003: val_acc did not improve\n",
      "35000/35000 [==============================] - 298s - loss: 0.1400 - acc: 0.9434 - val_loss: 0.1363 - val_acc: 0.9441\n",
      "Epoch 5/36\n",
      "34944/35000 [============================>.] - ETA: 0s - loss: 0.1385 - acc: 0.9440Epoch 00004: val_acc did not improve\n",
      "35000/35000 [==============================] - 299s - loss: 0.1386 - acc: 0.9440 - val_loss: 0.1343 - val_acc: 0.9458\n",
      "Epoch 6/36\n",
      "34944/35000 [============================>.] - ETA: 0s - loss: 0.1367 - acc: 0.9445Epoch 00005: val_acc improved from 0.94633 to 0.94634, saving model to c:/deep_learning/kaggle/amazon/model/weights.best.hdf5\n",
      "35000/35000 [==============================] - 299s - loss: 0.1366 - acc: 0.9445 - val_loss: 0.1356 - val_acc: 0.9463\n",
      "Epoch 7/36\n",
      "34944/35000 [============================>.] - ETA: 0s - loss: 0.1356 - acc: 0.9448Epoch 00006: val_acc improved from 0.94634 to 0.94656, saving model to c:/deep_learning/kaggle/amazon/model/weights.best.hdf5\n",
      "35000/35000 [==============================] - 300s - loss: 0.1356 - acc: 0.9448 - val_loss: 0.1355 - val_acc: 0.9466\n",
      "Epoch 8/36\n",
      "34944/35000 [============================>.] - ETA: 0s - loss: 0.1353 - acc: 0.9447Epoch 00007: val_acc did not improve\n",
      "35000/35000 [==============================] - 303s - loss: 0.1353 - acc: 0.9447 - val_loss: 0.1353 - val_acc: 0.9458\n",
      "Epoch 9/36\n",
      "34944/35000 [============================>.] - ETA: 0s - loss: 0.1333 - acc: 0.9456Epoch 00008: val_acc did not improve\n",
      "35000/35000 [==============================] - 304s - loss: 0.1334 - acc: 0.9456 - val_loss: 0.1361 - val_acc: 0.9462\n",
      "Epoch 10/36\n",
      "34944/35000 [============================>.] - ETA: 0s - loss: 0.1326 - acc: 0.9457Epoch 00009: val_acc did not improve\n",
      "35000/35000 [==============================] - 304s - loss: 0.1326 - acc: 0.9457 - val_loss: 0.1376 - val_acc: 0.9447\n",
      "Epoch 11/36\n",
      "34944/35000 [============================>.] - ETA: 0s - loss: 0.1302 - acc: 0.9465Epoch 00010: val_acc improved from 0.94656 to 0.94711, saving model to c:/deep_learning/kaggle/amazon/model/weights.best.hdf5\n",
      "35000/35000 [==============================] - 306s - loss: 0.1302 - acc: 0.9465 - val_loss: 0.1369 - val_acc: 0.9471\n"
     ]
    }
   ],
   "source": [
    "# the explicit split approach was taken so as to allow for a local validation\n",
    "# model.fit(X, Y, validation_split=0.33, epochs=150, batch_size=10, callbacks=callbacks_list, verbose=0)\n",
    "\n",
    "# Fit the model (Add history so that the history may be saved)\n",
    "history = model.fit(x_train, y_train,\n",
    "          batch_size=128,\n",
    "          epochs=36,\n",
    "          verbose=1,\n",
    "          callbacks=callbacks_list,\n",
    "          validation_data=(x_valid, y_valid))"
   ]
  },
  {
   "cell_type": "code",
   "execution_count": 24,
   "metadata": {
    "collapsed": false
   },
   "outputs": [
    {
     "name": "stdout",
     "output_type": "stream",
     "text": [
      "0.87598782907\n"
     ]
    }
   ],
   "source": [
    "# Local Validation Results\n",
    "from sklearn.metrics import fbeta_score\n",
    "p_valid = model.predict(x_valid, batch_size=128,verbose=2)\n",
    "print(fbeta_score(y_valid, np.array(p_valid) > 0.2, beta=2, average='samples'))"
   ]
  },
  {
   "cell_type": "code",
   "execution_count": 25,
   "metadata": {
    "collapsed": false
   },
   "outputs": [
    {
     "data": {
      "image/png": "[encoded data removed]",
      "text/plain": [
       "<matplotlib.figure.Figure at 0x188104ee710>"
      ]
     },
     "metadata": {},
     "output_type": "display_data"
    },
    {
     "data": {
      "image/png": "[encoded data removed]",
      "text/plain": [
       "<matplotlib.figure.Figure at 0x18814ec4d30>"
      ]
     },
     "metadata": {},
     "output_type": "display_data"
    }
   ],
   "source": [
    "# Plot Training History\n",
    "\n",
    "# summarize history for accuracy\n",
    "plt.plot(history.history['acc'])\n",
    "plt.plot(history.history['val_acc'])\n",
    "plt.title('model accuracy')\n",
    "plt.ylabel('accuracy')\n",
    "plt.xlabel('epoch')\n",
    "plt.legend(['train', 'test'], loc='upper left')\n",
    "plt.show()\n",
    "\n",
    "# summarize history for loss\n",
    "plt.plot(history.history['loss'])\n",
    "plt.plot(history.history['val_loss'])\n",
    "plt.title('model loss')\n",
    "plt.ylabel('loss')\n",
    "plt.xlabel('epoch')\n",
    "plt.legend(['train', 'test'], loc='upper left')\n",
    "plt.show()"
   ]
  },
  {
   "cell_type": "code",
   "execution_count": 26,
   "metadata": {
    "collapsed": false
   },
   "outputs": [
    {
     "name": "stdout",
     "output_type": "stream",
     "text": [
      "[[ 0.  0.  0. ...,  0.  0.  0.]\n",
      " [ 0.  0.  0. ...,  0.  0.  0.]\n",
      " [ 0.  0.  0. ...,  0.  0.  0.]\n",
      " ..., \n",
      " [ 0.  0.  0. ...,  0.  0.  0.]\n",
      " [ 0.  0.  0. ...,  0.  0.  0.]\n",
      " [ 1.  0.  0. ...,  0.  0.  1.]]\n"
     ]
    }
   ],
   "source": [
    "# purge the x_train and y_train dataset, and read in the test images\n",
    "x_train = []\n",
    "y_train = []\n",
    "\n",
    "# x_test, y_test = keras_image_prep(test, test_path, 'test', input_dim, labels)\n",
    "# Save out the test image NumPy\n",
    "# np.save('f:/kaggle/amazon/x_test.npy', x_test)\n",
    "# np.save('f:/kaggle/amazon/y_test.npy', y_test)\n",
    "\n",
    "x_test = np.load('f:/kaggle/amazon/x_test.npy')\n",
    "y_test = np.load('f:/kaggle/amazon/y_test.npy')\n",
    "\n",
    "# predict using the trained model\n",
    "y_test = model.predict(x_test,batch_size=128,verbose=2)\n",
    "y_c_test = (y_test > .222222)*1.0        # before multiplying by 1.0, this appears as an array of True and False\n",
    "print(y_c_test)"
   ]
  },
  {
   "cell_type": "code",
   "execution_count": 27,
   "metadata": {
    "collapsed": false
   },
   "outputs": [],
   "source": [
    "# Build Submission, using label outputted from long time ago\n",
    "test_labels = []\n",
    "for row in range(y_c_test.shape[0]):\n",
    "    test_labels.append(' '.join(labels[y_c_test[row,:]==1]))\n",
    "Submission_PDFModel = test.copy()\n",
    "Submission_PDFModel.drop('tags', axis = 1)\n",
    "Submission_PDFModel['tags'] = test_labels\n",
    "Submission_PDFModel.to_csv(str(subm_output_path + 'sub_simple_keras_32x32_rd6.csv'), index = False)"
   ]
  },
  {
   "cell_type": "code",
   "execution_count": 28,
   "metadata": {
    "collapsed": false
   },
   "outputs": [
    {
     "name": "stdout",
     "output_type": "stream",
     "text": [
      "(15298, 2)\n"
     ]
    }
   ],
   "source": [
    "# Trying out sampling of DataFrame\n",
    "test_short = test.sample(frac=0.25,replace=False)\n",
    "print(test_short.shape)"
   ]
  },
  {
   "cell_type": "code",
   "execution_count": 29,
   "metadata": {
    "collapsed": false
   },
   "outputs": [
    {
     "name": "stdout",
     "output_type": "stream",
     "text": [
      "Index(['agriculture', 'artisinal_mine', 'bare_ground', 'blooming', 'blow_down',\n",
      "       'clear', 'cloudy', 'conventional_mine', 'cultivation', 'habitation',\n",
      "       'haze', 'partly_cloudy', 'primary', 'road', 'selective_logging',\n",
      "       'slash_burn', 'water'],\n",
      "      dtype='object')\n",
      "(61191, 2)\n"
     ]
    }
   ],
   "source": [
    "print(labels)\n",
    "print(Submission_PDFModel.shape)"
   ]
  },
  {
   "cell_type": "code",
   "execution_count": 41,
   "metadata": {
    "collapsed": true
   },
   "outputs": [],
   "source": [
    "test_df = pd.DataFrame(history.history)                                # this is converting the dict object to DataFrame\n",
    "test_df.to_csv(str(subm_output_path + 'keras_32x32_rd6_hist.csv'))     # saving to disk (a method for DataFrame object)\n",
    "perserved_hist = pd.read_csv(str(subm_output_path + 'keras_32x32_rd6_hist.csv'))  # read in the preserved history"
   ]
  },
  {
   "cell_type": "code",
   "execution_count": 42,
   "metadata": {
    "collapsed": false
   },
   "outputs": [
    {
     "data": {
      "image/png": "[encoded data removed]",
      "text/plain": [
       "<matplotlib.figure.Figure at 0x188127859e8>"
      ]
     },
     "metadata": {},
     "output_type": "display_data"
    },
    {
     "data": {
      "image/png": "[encoded data removed]",
      "text/plain": [
       "<matplotlib.figure.Figure at 0x188122042b0>"
      ]
     },
     "metadata": {},
     "output_type": "display_data"
    }
   ],
   "source": [
    "# Plot (preserved) Training History\n",
    "\n",
    "# summarize history for accuracy\n",
    "plt.plot(perserved_hist['acc'])\n",
    "plt.plot(perserved_hist['val_acc'])\n",
    "plt.title('model accuracy')\n",
    "plt.ylabel('accuracy')\n",
    "plt.xlabel('epoch')\n",
    "plt.legend(['train', 'test'], loc='upper left')\n",
    "plt.show()\n",
    "\n",
    "# summarize history for loss\n",
    "plt.plot(perserved_hist['loss'])\n",
    "plt.plot(perserved_hist['val_loss'])\n",
    "plt.title('model loss')\n",
    "plt.ylabel('loss')\n",
    "plt.xlabel('epoch')\n",
    "plt.legend(['train', 'test'], loc='upper left')\n",
    "plt.show()"
   ]
  }
 ],
 "metadata": {
  "anaconda-cloud": {},
  "kernelspec": {
   "display_name": "Python [conda env:tensorflow]",
   "language": "python",
   "name": "conda-env-tensorflow-py"
  },
  "language_info": {
   "codemirror_mode": {
    "name": "ipython",
    "version": 3
   },
   "file_extension": ".py",
   "mimetype": "text/x-python",
   "name": "python",
   "nbconvert_exporter": "python",
   "pygments_lexer": "ipython3",
   "version": "3.5.3"
  }
 },
 "nbformat": 4,
 "nbformat_minor": 0
}
